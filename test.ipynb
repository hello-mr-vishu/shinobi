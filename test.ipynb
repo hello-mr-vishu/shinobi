{
 "cells": [
  {
   "cell_type": "code",
   "execution_count": 1,
   "id": "8b42c8cc",
   "metadata": {},
   "outputs": [
    {
     "name": "stdout",
     "output_type": "stream",
     "text": [
      "{'shinobi_host': '10.10.10.10', 'shinobi_port': 8080, 'api_key': 'UfUL1AcqYC9OkNDpj2jeESeAkaOPRj', 'group_key': 'bS1gixfvdu', 'monitor_ids': ['cedXRBYLBP80', 'u3YA9NhAI080', 'QmaCWgmyll80', 'CWBp7pbFZO80'], 'sheet_id': '16co0aMiaJjEoLZr6YYN7ujjSYx9HpVxFwTicY6E2M_c', 'credentials_file': 'shinobi-sheets-credentials.json', 'scopes': ['https://spreadsheets.google.com/feeds', 'https://www.googleapis.com/auth/drive'], 'output_dir': 'shinobi_output', 'update_interval': 60.0, 'max_retries': 3, 'retry_backoff_factor': 1.0}\n"
     ]
    }
   ],
   "source": [
    "import yaml\n",
    "\n",
    "def load_config(path=\"config.yaml\"):\n",
    "    with open(path, \"r\") as f:\n",
    "        return yaml.safe_load(f)\n",
    "\n",
    "config = load_config()\n",
    "print(config)\n"
   ]
  },
  {
   "cell_type": "code",
   "execution_count": null,
   "id": "8e8d0949",
   "metadata": {},
   "outputs": [],
   "source": []
  }
 ],
 "metadata": {
  "kernelspec": {
   "display_name": ".venv",
   "language": "python",
   "name": "python3"
  },
  "language_info": {
   "codemirror_mode": {
    "name": "ipython",
    "version": 3
   },
   "file_extension": ".py",
   "mimetype": "text/x-python",
   "name": "python",
   "nbconvert_exporter": "python",
   "pygments_lexer": "ipython3",
   "version": "3.13.3"
  }
 },
 "nbformat": 4,
 "nbformat_minor": 5
}
